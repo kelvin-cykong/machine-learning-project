{
 "cells": [
  {
   "cell_type": "code",
   "execution_count": null,
   "source": [
    "# Titanic notebook by Kelvin\n",
    "# Created Sept 8 2021"
   ],
   "outputs": [],
   "metadata": {}
  }
 ],
 "metadata": {
  "orig_nbformat": 4,
  "language_info": {
   "name": "python"
  }
 },
 "nbformat": 4,
 "nbformat_minor": 2
}